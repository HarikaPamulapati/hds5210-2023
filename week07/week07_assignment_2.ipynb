{
  "cells": [
    {
      "cell_type": "markdown",
      "metadata": {
        "id": "a9H_ycwgpjQb"
      },
      "source": [
        "# Week 7 Assignment\n",
        "\n",
        "We've been working with different types of data structures in Python (dictionary, list, etc), how those are represented in JSON documents, and how to write code to access specific data elements. In this week's assignment, you will need to create your own JSON document to store information about yourself and the grades you've received from week 1 to week 4 and the week 6 quiz.  That is, everything you should have received a grade for.  Then you'll need to show me you know how to navigate the JSON in that file.\n",
        "\n",
        "Different from what we've done in the past, you do not have to write any functions or include any docstrings.  Just create some JSON and write some code.\n",
        "\n",
        "---"
      ]
    },
    {
      "cell_type": "markdown",
      "metadata": {
        "id": "SzWx-2EmpjQe"
      },
      "source": [
        "## 7.1 Create a JSON string\n",
        "\n",
        "Create a JSON string that contains your name, email, year you were born, all of the grades you've received back so far, and a comment about what you thought was most challenging on each of those assignments.  This can be any structure you choose, but make sure it uses a dictionary and a list, and has at least two levels of hierarchy.  That is, it can't just be one big long list."
      ]
    },
    {
      "cell_type": "markdown",
      "metadata": {
        "id": "7PGvPKRRpjQf"
      },
      "source": [
        "First, explain how your data structure is going to look..."
      ]
    },
    {
      "cell_type": "markdown",
      "metadata": {
        "id": "hksd1lClpjQf"
      },
      "source": [
        "The JSON data represents information for me, including my name, email address,date of birth, grades for assignments, and comments on each assignment all organized in a structured format using dictionaries and lists."
      ]
    },
    {
      "cell_type": "markdown",
      "metadata": {
        "id": "WqF_zM4PpjQg"
      },
      "source": [
        "Then put the actual JSON you've created inside the multiline string below..."
      ]
    },
    {
      "cell_type": "code",
      "execution_count": 7,
      "metadata": {
        "id": "1NgN1gDzpjQg"
      },
      "outputs": [],
      "source": [
        "hds5210 = \"\"\"\n",
        "{\n",
        "  \"name\": \"HARIKA PAMULAPATI\",\n",
        "  \"email address\": \"harika.pamulapati@slu.edu\",\n",
        "  \"year_born\": 2000,\n",
        "\n",
        "   \"grades_and_comments\": {\n",
        "     \"week1\": {\"grade\": 10, \"Comment\": \"Found the task very fascinating.\"},\n",
        "     \"week2\": {\"grade\": 10, \"Comment\": \"Challenging but satisfying.\"},\n",
        "     \"week3\": {\"grade\": 10, \"Comment\": \"Enjoyed completing the assignments.\"},\n",
        "     \"week4\": {\"grade\": 10, \"Comment\": \"Struggled a little with the complexity.\"},\n",
        "     \"week6\": {\"grade\": 5, \"Comment\": \"Some concepts were challenging to understand.\"}\n",
        "     }\n",
        "}\n",
        "\"\"\""
      ]
    },
    {
      "cell_type": "markdown",
      "metadata": {
        "id": "LuvWEELKpjQh"
      },
      "source": [
        "## 7.2 Do something with your JSON\n",
        "\n",
        "Now use Python code to do something with the Json above.  Turn it into English text, but make sure that you use at least one loop to access some dict or list content of your JSON.  Below, I've provided some basic code to read in the string above as JSON and return a Python object.  Your job is to work with that data structure and print out the important information like your name, email, and how you did on each assignment."
      ]
    },
    {
      "cell_type": "code",
      "execution_count": 8,
      "metadata": {
        "id": "K5wJJJNDpjQi",
        "outputId": "bb646c47-8f95-4bfa-dea8-28ffdfe47d74",
        "colab": {
          "base_uri": "https://localhost:8080/"
        }
      },
      "outputs": [
        {
          "output_type": "stream",
          "name": "stdout",
          "text": [
            "Hello, my name is HARIKA PAMULAPATI.\n",
            "My email address is harika.pamulapati@slu.edu.\n",
            "I was born on 2000.\n",
            "Throughout the course, I have been actively engaged in various weekly assignments, earning grades such as 10 in Week 1, where I found the task very fascinating.\n",
            "Week 2 posted challenges that were ultimately satisfying, reflected in my grade of 10.\n",
            "Week 3 was enjoyable, and I earned a grade of 10.\n",
            "However, Week 4 proved more complex, resulting in a grade of 10, as I struggled little with the intricacies.\n",
            "In Week 6, I faced challenging in understanding some concepts, leading to a grade of 5.\n",
            "\n"
          ]
        }
      ],
      "source": [
        "import json\n",
        "\n",
        "hds5210 = \"\"\"\n",
        "{\n",
        "  \"name\": \"HARIKA PAMULAPATI\",\n",
        "  \"email address\": \"harika.pamulapati@slu.edu\",\n",
        "  \"year_born\": 2000,\n",
        "\n",
        "  \"grades_and_comments\": {\n",
        "    \"week1\": {\"grade\": 10, \"Comment\": \"Found the task very fascinating.\"},\n",
        "    \"week2\": {\"grade\": 10, \"Comment\": \"Challenging but satisfying.\"},\n",
        "    \"week3\": {\"grade\": 10, \"Comment\": \"Enjoyed completing the assignments.\"},\n",
        "    \"week4\": {\"grade\": 10, \"Comment\": \"Struggled a little with the complexity.\"},\n",
        "    \"week6\": {\"grade\": 5, \"Comment\": \"Some concepts were challenging to understand.\"}\n",
        "}\n",
        "}\n",
        "\"\"\"\n",
        "info = json.loads(hds5210)\n",
        "'''\n",
        "Loads the json string named hds5210\n",
        "'''\n",
        "\n",
        "paragraph = (\n",
        "    f\"Hello, my name is {info['name']}.\\n\"\n",
        "    f\"My email address is {info['email address']}.\\n\"\n",
        "    f\"I was born on {info['year_born']}.\\n\"\n",
        "    f\"Throughout the course, I have been actively engaged in various weekly assignments, earning grades such as {info['grades_and_comments']['week1']['grade']} in Week 1, where I found the task very fascinating.\\n\"\n",
        "    f\"Week 2 posted challenges that were ultimately satisfying, reflected in my grade of {info['grades_and_comments']['week2']['grade']}.\\n\"\n",
        "    f\"Week 3 was enjoyable, and I earned a grade of {info['grades_and_comments']['week3']['grade']}.\\n\"\n",
        "    f\"However, Week 4 proved more complex, resulting in a grade of {info['grades_and_comments']['week4']['grade']}, as I struggled little with the intricacies.\\n\"\n",
        "    f\"In Week 6, I faced challenging in understanding some concepts, leading to a grade of {info['grades_and_comments']['week6']['grade']}.\\n\"\n",
        ")\n",
        "'''\n",
        "finally we print the paragraph below\n",
        "'''\n",
        "print(paragraph)\n"
      ]
    },
    {
      "cell_type": "markdown",
      "metadata": {
        "id": "zCtqCqEKpjQi"
      },
      "source": [
        "## 7.3 Reflect\n",
        "\n",
        "Write a paragraph on any reflections you have. Was this hard? Easy?  What parts were most challenging or easiest? What did you like or dislike about the assignment?  Share whatever important thoughts you have abou this assignment."
      ]
    },
    {
      "cell_type": "markdown",
      "metadata": {
        "id": "tkALy-_6pjQj"
      },
      "source": [
        "* Put your response here"
      ]
    },
    {
      "cell_type": "markdown",
      "source": [
        "I enjoyed and found it tough to deal with the JSON data. It enhanced my Python knowledge and helped me solve more problems. Precision was critical, and understanding complex data structures was essential. Despite difficulties, it was an excellent learning opportunity.\n"
      ],
      "metadata": {
        "id": "uGkIr6xouHYA"
      }
    },
    {
      "cell_type": "markdown",
      "metadata": {
        "id": "s8QiZiodpjQj"
      },
      "source": [
        "---\n",
        "\n",
        "# Example\n",
        "\n",
        "Below is an example of something similar, but this uses information my and my friend's kids instead of grades."
      ]
    },
    {
      "cell_type": "code",
      "execution_count": 9,
      "metadata": {
        "id": "W5yWsKJ-pjQj",
        "outputId": "e8405db4-e74e-4a0d-c896-b241659f69ac",
        "colab": {
          "base_uri": "https://localhost:8080/"
        }
      },
      "outputs": [
        {
          "output_type": "stream",
          "name": "stdout",
          "text": [
            "Hi, my name is Paul. I've got 3 kids. Their names are Ellie, Ada, Teddy.\n",
            "My friend, Anny has 1 kids. That's fewer than me. Their names are 1\n"
          ]
        }
      ],
      "source": [
        "hds5210 = \"\"\"\n",
        "{\n",
        "    \"me\": {\n",
        "        \"name\": \"Paul\",\n",
        "        \"kids\": [\"Ellie\", \"Ada\", \"Teddy\"]\n",
        "    },\n",
        "    \"friend\": {\n",
        "        \"name\": \"Anny\",\n",
        "        \"kids\": [\"Abby\"]\n",
        "    }\n",
        "}\n",
        "\"\"\"\n",
        "\n",
        "import json\n",
        "\n",
        "info = json.loads(hds5210)\n",
        "\n",
        "me = info[\"me\"][\"name\"]\n",
        "my_kids_count = len(info[\"me\"][\"kids\"])\n",
        "kids_list = \", \".join(info[\"me\"][\"kids\"])\n",
        "friend = info[\"friend\"][\"name\"]\n",
        "friends_kid_count = len(info[\"friend\"][\"kids\"])\n",
        "friend_kids = \", \".join(info[\"friend\"][\"kids\"])\n",
        "compare = \"more\" if friends_kid_count > my_kids_count else \"fewer\"\n",
        "\n",
        "print(f\"Hi, my name is {me}. I've got {my_kids_count} kids. Their names are {kids_list}.\")\n",
        "print(f\"My friend, {friend} has {friends_kid_count} kids. That's {compare} than me. Their names are {friends_kid_count}\")"
      ]
    }
  ],
  "metadata": {
    "kernelspec": {
      "display_name": "Python 3",
      "language": "python",
      "name": "python3"
    },
    "language_info": {
      "codemirror_mode": {
        "name": "ipython",
        "version": 3
      },
      "file_extension": ".py",
      "mimetype": "text/x-python",
      "name": "python",
      "nbconvert_exporter": "python",
      "pygments_lexer": "ipython3",
      "version": "3.9.16"
    },
    "colab": {
      "provenance": []
    }
  },
  "nbformat": 4,
  "nbformat_minor": 0
}